{
 "cells": [
  {
   "cell_type": "markdown",
   "id": "bd5441d4-2e20-46ab-8a23-6373f6df6aa1",
   "metadata": {},
   "source": [
    "# This is code :D"
   ]
  },
  {
   "cell_type": "markdown",
   "id": "ba4cd3e1-5a85-4031-a914-9110db0066c1",
   "metadata": {},
   "source": [
    "# Solutions for https://projecteuler.net/archives problems"
   ]
  },
  {
   "cell_type": "code",
   "execution_count": 23,
   "id": "23bc69a0-df12-4f82-88b1-2187dc070bd8",
   "metadata": {
    "scrolled": true
   },
   "outputs": [
    {
     "name": "stdout",
     "output_type": "stream",
     "text": [
      "233168\n"
     ]
    }
   ],
   "source": [
    "#Problem 1\n",
    "x = 0\n",
    "for target_number in range(1,1000):\n",
    "    if target_number % 3 == 0 or target_number % 5 ==0:\n",
    "        x += target_number\n",
    "print(x)"
   ]
  },
  {
   "cell_type": "code",
   "execution_count": 36,
   "id": "fd3b05bf-8d17-4e1d-b641-2bebd7197195",
   "metadata": {},
   "outputs": [
    {
     "name": "stdout",
     "output_type": "stream",
     "text": [
      "4613732\n"
     ]
    }
   ],
   "source": [
    "#problem 2$\n",
    "\n",
    "list_of_numbers = [1,2]\n",
    "total_evens = 0\n",
    "\n",
    "while list_of_numbers[-1] <=4000000:\n",
    "    sum_of_two_previous = list_of_numbers[-1] + list_of_numbers[-2]\n",
    "    list_of_numbers.append(sum_of_two_previous)\n",
    "\n",
    "    \n",
    "for number_element in list_of_numbers:\n",
    "    if number_element % 2 == 0:\n",
    "        total_evens += number_element\n",
    "print(total_evens)\n",
    "    \n",
    "\n",
    "\n"
   ]
  },
  {
   "cell_type": "code",
   "execution_count": 37,
   "id": "cd4c2166-7dee-437e-bb9d-a2cfa44f1efa",
   "metadata": {},
   "outputs": [
    {
     "name": "stdout",
     "output_type": "stream",
     "text": [
      "0\n",
      "0\n",
      "0\n",
      "0\n"
     ]
    }
   ],
   "source": [
    "#problem 2\n",
    "big_number = 600851475143\n",
    "list_of_prime_number = []\n",
    "for x in range(big_number):\n",
    "    "
   ]
  },
  {
   "cell_type": "code",
   "execution_count": null,
   "id": "1113244f-fd27-4c94-b1f8-996bca637a4e",
   "metadata": {},
   "outputs": [],
   "source": []
  }
 ],
 "metadata": {
  "kernelspec": {
   "display_name": "Python 3 (ipykernel)",
   "language": "python",
   "name": "python3"
  },
  "language_info": {
   "codemirror_mode": {
    "name": "ipython",
    "version": 3
   },
   "file_extension": ".py",
   "mimetype": "text/x-python",
   "name": "python",
   "nbconvert_exporter": "python",
   "pygments_lexer": "ipython3",
   "version": "3.12.3"
  }
 },
 "nbformat": 4,
 "nbformat_minor": 5
}
