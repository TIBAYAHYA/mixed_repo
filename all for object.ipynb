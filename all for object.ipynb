{
 "cells": [
  {
   "cell_type": "markdown",
   "id": "8acce872-91c6-42b3-8d88-575e03b56166",
   "metadata": {},
   "source": [
    "#### is everything in python an object? \n",
    "#### Short Answer  : Yes\n",
    "#### Long  Answer  : Yes, but read as below"
   ]
  },
  {
   "cell_type": "code",
   "execution_count": 3,
   "id": "90c64828-7abb-4e05-9238-e3915c8f1d7c",
   "metadata": {},
   "outputs": [],
   "source": [
    "#this means they all have memory adresses\n",
    "#for example a function, a function can be assigned a variable, can return a function, and can be passed a function"
   ]
  },
  {
   "cell_type": "code",
   "execution_count": 4,
   "id": "7a1d273b-38e3-42bb-a045-da1d9c81a475",
   "metadata": {},
   "outputs": [
    {
     "ename": "SyntaxError",
     "evalue": "invalid syntax (2360443840.py, line 1)",
     "output_type": "error",
     "traceback": [
      "  \u001b[36mCell\u001b[39m\u001b[36m \u001b[39m\u001b[32mIn[4]\u001b[39m\u001b[32m, line 1\u001b[39m\n\u001b[31m    \u001b[39m\u001b[31mhelp(in) # this prints some information about the data type\u001b[39m\n         ^\n\u001b[31mSyntaxError\u001b[39m\u001b[31m:\u001b[39m invalid syntax\n"
     ]
    }
   ],
   "source": [
    "help(int) # this prints some information about the data type"
   ]
  },
  {
   "cell_type": "code",
   "execution_count": 5,
   "id": "521b63ac-a41c-4c1d-938e-c4189a02acba",
   "metadata": {},
   "outputs": [
    {
     "data": {
      "text/plain": [
       "5"
      ]
     },
     "execution_count": 5,
     "metadata": {},
     "output_type": "execute_result"
    }
   ],
   "source": [
    "c = int(\"101\",base = 2) # get the binary value I guess?\n",
    "c"
   ]
  },
  {
   "cell_type": "code",
   "execution_count": null,
   "id": "116a3398-6dd2-43b5-befe-6af8db8b8027",
   "metadata": {},
   "outputs": [],
   "source": []
  }
 ],
 "metadata": {
  "kernelspec": {
   "display_name": "Python 3 (ipykernel)",
   "language": "python",
   "name": "python3"
  },
  "language_info": {
   "codemirror_mode": {
    "name": "ipython",
    "version": 3
   },
   "file_extension": ".py",
   "mimetype": "text/x-python",
   "name": "python",
   "nbconvert_exporter": "python",
   "pygments_lexer": "ipython3",
   "version": "3.12.3"
  }
 },
 "nbformat": 4,
 "nbformat_minor": 5
}
