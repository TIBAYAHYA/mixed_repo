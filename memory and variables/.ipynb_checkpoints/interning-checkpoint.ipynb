{
 "cells": [
  {
   "cell_type": "markdown",
   "id": "f7b06a6b-6733-445e-be4e-3a89fcd1cec2",
   "metadata": {},
   "source": [
    "### what is interning? It is using objects on demand\n"
   ]
  },
  {
   "cell_type": "code",
   "execution_count": 1,
   "id": "51042e23-ce41-465c-a598-072977f85197",
   "metadata": {},
   "outputs": [
    {
     "data": {
      "text/plain": [
       "True"
      ]
     },
     "execution_count": 1,
     "metadata": {},
     "output_type": "execute_result"
    }
   ],
   "source": [
    "a = -5\n",
    "b = -5\n",
    "a is b"
   ]
  },
  {
   "cell_type": "code",
   "execution_count": 2,
   "id": "7032aa5e-6c30-4c8d-8866-57e06a669c14",
   "metadata": {},
   "outputs": [
    {
     "data": {
      "text/plain": [
       "False"
      ]
     },
     "execution_count": 2,
     "metadata": {},
     "output_type": "execute_result"
    }
   ],
   "source": [
    "a = -6\n",
    "b = -6\n",
    "a is b\n"
   ]
  },
  {
   "cell_type": "code",
   "execution_count": 4,
   "id": "7c15055d-6c06-484f-bc46-30a7784a58a1",
   "metadata": {},
   "outputs": [
    {
     "data": {
      "text/plain": [
       "True"
      ]
     },
     "execution_count": 4,
     "metadata": {},
     "output_type": "execute_result"
    }
   ],
   "source": [
    "a = 256\n",
    "b = 256\n",
    "a is b"
   ]
  },
  {
   "cell_type": "code",
   "execution_count": 9,
   "id": "02764e40-5740-4a3a-810b-c4f1af12061d",
   "metadata": {},
   "outputs": [
    {
     "data": {
      "text/plain": [
       "False"
      ]
     },
     "execution_count": 9,
     "metadata": {},
     "output_type": "execute_result"
    }
   ],
   "source": [
    "a = 257\n",
    "b = 257\n",
    "a is b"
   ]
  },
  {
   "cell_type": "markdown",
   "id": "cc5fad71-e724-46d5-8a49-9fd8081d9f31",
   "metadata": {},
   "source": [
    "#### range of slingtons is -5 - 256, integers outside that cannot share same reference despite them sharing same value\n",
    "#### every time we define a variable outside of the slingtons range, a new object is created to store It"
   ]
  },
  {
   "cell_type": "code",
   "execution_count": 15,
   "id": "b98c5bc3-e8aa-4509-b423-5c45d6ee24c8",
   "metadata": {},
   "outputs": [
    {
     "data": {
      "text/plain": [
       "True"
      ]
     },
     "execution_count": 15,
     "metadata": {},
     "output_type": "execute_result"
    }
   ],
   "source": [
    "a = int(10)\n",
    "b = int(\"10\")\n",
    "c = int(\"1010\",base = 2)\n",
    "d = 10\n",
    "a is b\n",
    "b is c \n",
    "c is d\n"
   ]
  },
  {
   "cell_type": "code",
   "execution_count": 16,
   "id": "d03909f0-770d-4908-93e6-fc39cc189853",
   "metadata": {},
   "outputs": [
    {
     "data": {
      "text/plain": [
       "(11754184, 11754184, 11754184, 11754184)"
      ]
     },
     "execution_count": 16,
     "metadata": {},
     "output_type": "execute_result"
    }
   ],
   "source": [
    "id(a), id(b), id(c), id(d)"
   ]
  },
  {
   "cell_type": "markdown",
   "id": "4f1e3f3e-8baa-4e02-9c47-c3f9bcf91dfe",
   "metadata": {},
   "source": [
    "#### basically variables do their operations before targeting an adress, so long that the value is within the slingtons range, they get assigned to the same memory adress"
   ]
  },
  {
   "cell_type": "markdown",
   "id": "5a74f9bb-1a92-415e-84bb-3ce3213ec7d1",
   "metadata": {},
   "source": [
    "# Strings Interning"
   ]
  },
  {
   "cell_type": "code",
   "execution_count": 24,
   "id": "1414631c-b157-465a-b3f6-c7c0f7eece63",
   "metadata": {},
   "outputs": [
    {
     "data": {
      "text/plain": [
       "False"
      ]
     },
     "execution_count": 24,
     "metadata": {},
     "output_type": "execute_result"
    }
   ],
   "source": [
    "a = \"this is a multiple spaces string\"\n",
    "b = \"this is a multiple spaces string\"\n",
    "a is b # returns false"
   ]
  },
  {
   "cell_type": "code",
   "execution_count": 26,
   "id": "8e2844ac-2504-4945-90b1-741393b0df95",
   "metadata": {},
   "outputs": [
    {
     "data": {
      "text/plain": [
       "True"
      ]
     },
     "execution_count": 26,
     "metadata": {},
     "output_type": "execute_result"
    }
   ],
   "source": [
    "import sys\n",
    "a = sys.intern(\"this is a multiple spaces string\")\n",
    "b = sys.intern(\"this is a multiple spaces string\") # we are required to intern the string for both variables, otherwise It wont work\n",
    "a is b"
   ]
  },
  {
   "cell_type": "markdown",
   "id": "4cfa8d44-dc48-40be-9411-15fe117b8ca0",
   "metadata": {},
   "source": [
    "# Speed comparison of string using equals vs interning\n"
   ]
  },
  {
   "cell_type": "code",
   "execution_count": 7,
   "id": "6cc1b123-457b-483b-a7f4-e58b8043ca99",
   "metadata": {},
   "outputs": [],
   "source": [
    "import time,sys\n",
    "def equal_comparison(n): # n is number of times Its gonna run\n",
    "    a = \"this is a long string with alot of spaces\" *1000\n",
    "    b = \"this is a long string with alot of spaces\" *1000\n",
    "    for i in range(n):\n",
    "\n",
    "        if a == b:\n",
    "            pass\n",
    "\n",
    "def interning_comparison(n): # n is number of times Its gonna run\n",
    "    a = sys.intern(\"this is a long string with alot of spaces\" *1000)\n",
    "    b = sys.intern(\"this is a long string with alot of spaces\" *1000)\n",
    "    for i in range(n):\n",
    "        if a is b:\n",
    "            pass"
   ]
  },
  {
   "cell_type": "code",
   "execution_count": 8,
   "id": "dc328018-ff14-4286-a43a-33de0ed68beb",
   "metadata": {},
   "outputs": [
    {
     "name": "stdout",
     "output_type": "stream",
     "text": [
      "1.78990926300321\n"
     ]
    }
   ],
   "source": [
    "start = time.perf_counter()\n",
    "equal_comparison(1000000)\n",
    "end = time.perf_counter()\n",
    "print(end-start) "
   ]
  },
  {
   "cell_type": "code",
   "execution_count": 13,
   "id": "22db021a-c79a-4ee6-8ce2-f3f6467648ec",
   "metadata": {},
   "outputs": [
    {
     "name": "stdout",
     "output_type": "stream",
     "text": [
      "24.820026534995122\n"
     ]
    }
   ],
   "source": [
    "start = time.perf_counter()\n",
    "interning_comparison(1000000000)\n",
    "end = time.perf_counter()\n",
    "print(end-start) "
   ]
  },
  {
   "cell_type": "code",
   "execution_count": null,
   "id": "f1e538a2-8b36-489c-98dd-df277f723cca",
   "metadata": {},
   "outputs": [],
   "source": []
  }
 ],
 "metadata": {
  "kernelspec": {
   "display_name": "Python 3 (ipykernel)",
   "language": "python",
   "name": "python3"
  },
  "language_info": {
   "codemirror_mode": {
    "name": "ipython",
    "version": 3
   },
   "file_extension": ".py",
   "mimetype": "text/x-python",
   "name": "python",
   "nbconvert_exporter": "python",
   "pygments_lexer": "ipython3",
   "version": "3.12.3"
  }
 },
 "nbformat": 4,
 "nbformat_minor": 5
}
