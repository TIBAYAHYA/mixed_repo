{
 "cells": [
  {
   "cell_type": "code",
   "execution_count": 20,
   "id": "3d5c7a3a-6dde-460d-b165-76f6c9fb05da",
   "metadata": {},
   "outputs": [
    {
     "data": {
      "text/plain": [
       "6"
      ]
     },
     "execution_count": 20,
     "metadata": {},
     "output_type": "execute_result"
    }
   ],
   "source": [
    "a =  2 * 3 #stores 6\n",
    "a"
   ]
  },
  {
   "cell_type": "code",
   "execution_count": 21,
   "id": "0abcf7e2-ebc1-4b49-be48-ffe6728c088c",
   "metadata": {},
   "outputs": [
    {
     "data": {
      "text/plain": [
       "'a ba b'"
      ]
     },
     "execution_count": 21,
     "metadata": {},
     "output_type": "execute_result"
    }
   ],
   "source": [
    "a = \"a b\" * 2 #stores 'a ba b'\n",
    "a"
   ]
  },
  {
   "cell_type": "markdown",
   "id": "610309bd-d7d0-434d-abf4-e8fc5ada5aaa",
   "metadata": {},
   "source": [
    "### variables can be precalculated, so long that the precalculation doesnt exceed 20 characters\n",
    "### some of theses limits have been adjusted by python developers\n",
    "### here is a list of what I could find about precalculation variables value's limit as of 05/04(april)/2025"
   ]
  },
  {
   "cell_type": "code",
   "execution_count": null,
   "id": "9487d931-fe53-43df-bace-1cbfc7688f7a",
   "metadata": {},
   "outputs": [],
   "source": [
    "#define MAX_INT_SIZE           128  /* bits */\n",
    "#define MAX_COLLECTION_SIZE    256  /* items */\n",
    "#define MAX_STR_SIZE          4096  /* characters */\n",
    "#define MAX_TOTAL_ITEMS       1024  /* including nested collections */"
   ]
  },
  {
   "cell_type": "code",
   "execution_count": 50,
   "id": "ac7713b7-5cb9-4d21-b51f-bf0c8374db21",
   "metadata": {},
   "outputs": [],
   "source": [
    "def my_func():\n",
    "    a = 24 * 60\n",
    "    b = (1,2) * 5\n",
    "    c = \"abc\" * 3\n",
    "    d = \"ab\" * 2500\n",
    "    e = \"a shorotie stringie \" *5000\n",
    "    f = [\"a\",\"b\"] * 3\n",
    "\n"
   ]
  },
  {
   "cell_type": "code",
   "execution_count": 51,
   "id": "d6362e45-84ba-4c58-b2b5-e4d91eb51d04",
   "metadata": {},
   "outputs": [
    {
     "data": {
      "text/plain": [
       "(None,\n",
       " 1440,\n",
       " (1, 2, 1, 2, 1, 2, 1, 2, 1, 2),\n",
       " 'abcabcabc',\n",
       " 'ab',\n",
       " 2500,\n",
       " 'a shorotie stringie ',\n",
       " 5000,\n",
       " 'a',\n",
       " 'b',\n",
       " 3)"
      ]
     },
     "execution_count": 51,
     "metadata": {},
     "output_type": "execute_result"
    }
   ],
   "source": [
    "   my_func.__code__.co_consts  # objects that can be precalculated, get precalculated, yeah, \n"
   ]
  },
  {
   "cell_type": "markdown",
   "id": "b453c530-56ca-4f47-b4db-1c79bd8a83da",
   "metadata": {},
   "source": [
    "### membership testing"
   ]
  },
  {
   "cell_type": "code",
   "execution_count": 56,
   "id": "0af12633-50b0-41c3-9e59-4605676d40e9",
   "metadata": {},
   "outputs": [],
   "source": [
    "def my_func(a):\n",
    "    if a in [1,2,3]:\n",
    "        pass\n"
   ]
  },
  {
   "cell_type": "code",
   "execution_count": 57,
   "id": "99215ab4-3da0-4954-abfd-5a985912a3ca",
   "metadata": {},
   "outputs": [
    {
     "data": {
      "text/plain": [
       "(None, (1, 2, 3))"
      ]
     },
     "execution_count": 57,
     "metadata": {},
     "output_type": "execute_result"
    }
   ],
   "source": [
    "my_func.__code__.co_consts   # list got changed into Its immutable alternative, a tuple, this is part of the python optimization"
   ]
  },
  {
   "cell_type": "code",
   "execution_count": 59,
   "id": "faeb8bf2-08f3-46ee-86b4-678b772eb18d",
   "metadata": {},
   "outputs": [],
   "source": [
    "def my_func(a):\n",
    "    if a in {1,2,3}:\n",
    "        pass"
   ]
  },
  {
   "cell_type": "code",
   "execution_count": 60,
   "id": "b2f6c89d-3f38-4a93-b800-52bf35f1ac58",
   "metadata": {},
   "outputs": [
    {
     "data": {
      "text/plain": [
       "(None, frozenset({1, 2, 3}))"
      ]
     },
     "execution_count": 60,
     "metadata": {},
     "output_type": "execute_result"
    }
   ],
   "source": [
    "my_func.__code__.co_consts  #the set got changed into a frozen set, same thing as above"
   ]
  },
  {
   "cell_type": "markdown",
   "id": "d8fd75c9-e87c-4827-b3d7-422634895964",
   "metadata": {},
   "source": [
    "# Speed comparison"
   ]
  },
  {
   "cell_type": "code",
   "execution_count": 71,
   "id": "f7486952-91cc-4294-abe8-78775462206d",
   "metadata": {},
   "outputs": [],
   "source": [
    "import string,time\n",
    "\n",
    "ascii_list  = list(string.ascii_letters) #every single character on the ascii string as an element of a list\n",
    "ascii_tuple = tuple(string.ascii_letters)  # ^ same thing, but a tuple\n",
    "ascii_set   = set(string.ascii_letters)    #you know the drill\n",
    "#side note: a set cannot contain a repeating character, also doesnt necessarly keep order of elements"
   ]
  },
  {
   "cell_type": "code",
   "execution_count": 85,
   "id": "89fa3096-1ff6-4119-ae24-49fc9a0ab5f8",
   "metadata": {},
   "outputs": [],
   "source": [
    "def test_membership (n,container):\n",
    "    for i in range(n):\n",
    "        if \"z\" in container:\n",
    "            pass"
   ]
  },
  {
   "cell_type": "code",
   "execution_count": 89,
   "id": "d5165663-9b6b-4f49-b38f-1801f45935fa",
   "metadata": {},
   "outputs": [
    {
     "name": "stdout",
     "output_type": "stream",
     "text": [
      "list: 3.722045228998468\n"
     ]
    }
   ],
   "source": [
    "#   list\n",
    "start = time.perf_counter()\n",
    "test_membership(10000000,ascii_list)\n",
    "end = time.perf_counter()\n",
    "print(f\"list: {end - start}\")"
   ]
  },
  {
   "cell_type": "code",
   "execution_count": 90,
   "id": "9d260e2a-ad61-41d7-8312-a84753d478cf",
   "metadata": {},
   "outputs": [
    {
     "name": "stdout",
     "output_type": "stream",
     "text": [
      "tuple: 3.533073054997658\n"
     ]
    }
   ],
   "source": [
    "#   tuple\n",
    "start = time.perf_counter()\n",
    "test_membership(10000000,ascii_tuple)\n",
    "end = time.perf_counter()\n",
    "print(f\"tuple: {end - start}\")"
   ]
  },
  {
   "cell_type": "code",
   "execution_count": 91,
   "id": "2324556f-8180-4261-965b-ea905325e265",
   "metadata": {},
   "outputs": [
    {
     "name": "stdout",
     "output_type": "stream",
     "text": [
      "set: 0.36633532900305\n"
     ]
    }
   ],
   "source": [
    "#   set\n",
    "start = time.perf_counter()\n",
    "test_membership(10000000,ascii_set)\n",
    "end = time.perf_counter()\n",
    "print(f\"set: {end - start}\")"
   ]
  },
  {
   "cell_type": "code",
   "execution_count": null,
   "id": "cc13fcc6-854b-4da8-a4b1-beb049ae1004",
   "metadata": {},
   "outputs": [],
   "source": [
    "#### sets are alot faster than theses shmogs"
   ]
  }
 ],
 "metadata": {
  "kernelspec": {
   "display_name": "Python 3 (ipykernel)",
   "language": "python",
   "name": "python3"
  },
  "language_info": {
   "codemirror_mode": {
    "name": "ipython",
    "version": 3
   },
   "file_extension": ".py",
   "mimetype": "text/x-python",
   "name": "python",
   "nbconvert_exporter": "python",
   "pygments_lexer": "ipython3",
   "version": "3.12.3"
  }
 },
 "nbformat": 4,
 "nbformat_minor": 5
}
