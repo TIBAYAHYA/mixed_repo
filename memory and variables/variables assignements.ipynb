{
 "cells": [
  {
   "cell_type": "code",
   "execution_count": 47,
   "id": "a7fe24d5-80e1-4e48-a7a6-99b1f65d1448",
   "metadata": {},
   "outputs": [],
   "source": [
    "a = 10"
   ]
  },
  {
   "cell_type": "code",
   "execution_count": 48,
   "id": "5453b7fa-4f89-4e85-87d0-d848cd98d44b",
   "metadata": {},
   "outputs": [
    {
     "data": {
      "text/plain": [
       "'0xb35ac8'"
      ]
     },
     "execution_count": 48,
     "metadata": {},
     "output_type": "execute_result"
    }
   ],
   "source": [
    "\n",
    "hex(id(a))"
   ]
  },
  {
   "cell_type": "code",
   "execution_count": 49,
   "id": "d1a79976-d95a-4223-8277-a1c5bbf9b512",
   "metadata": {},
   "outputs": [],
   "source": [
    "a = 15"
   ]
  },
  {
   "cell_type": "code",
   "execution_count": 50,
   "id": "f5e636e5-280a-4a05-bb74-33b0a53bdc13",
   "metadata": {},
   "outputs": [
    {
     "data": {
      "text/plain": [
       "'0xb35b68'"
      ]
     },
     "execution_count": 50,
     "metadata": {},
     "output_type": "execute_result"
    }
   ],
   "source": [
    "hex(id(a))"
   ]
  },
  {
   "cell_type": "code",
   "execution_count": 51,
   "id": "57e884de-fc13-4594-b11e-5d3573a6ecbf",
   "metadata": {},
   "outputs": [
    {
     "data": {
      "text/plain": [
       "'0xb35ba8'"
      ]
     },
     "execution_count": 51,
     "metadata": {},
     "output_type": "execute_result"
    }
   ],
   "source": [
    "a = a+2\n",
    "hex(id(a))"
   ]
  },
  {
   "cell_type": "code",
   "execution_count": 66,
   "id": "65950f3c-0f8f-4c5a-bf0d-ffcd4ba7f818",
   "metadata": {},
   "outputs": [],
   "source": [
    "a = 15\n",
    "b = 15"
   ]
  },
  {
   "cell_type": "code",
   "execution_count": 67,
   "id": "249c6a95-4ad2-4fff-a019-2af0e2170763",
   "metadata": {},
   "outputs": [
    {
     "data": {
      "text/plain": [
       "'0xb35b68'"
      ]
     },
     "execution_count": 67,
     "metadata": {},
     "output_type": "execute_result"
    }
   ],
   "source": [
    "hex(id(a))\n"
   ]
  },
  {
   "cell_type": "code",
   "execution_count": 68,
   "id": "78149241-ee6d-4d47-a083-af283e125d0f",
   "metadata": {},
   "outputs": [
    {
     "data": {
      "text/plain": [
       "'0xb35b68'"
      ]
     },
     "execution_count": 68,
     "metadata": {},
     "output_type": "execute_result"
    }
   ],
   "source": [
    "hex(id(b))"
   ]
  },
  {
   "cell_type": "code",
   "execution_count": null,
   "id": "8148fc21-9580-4cce-bdd7-a45b9df420b4",
   "metadata": {},
   "outputs": [],
   "source": []
  }
 ],
 "metadata": {
  "kernelspec": {
   "display_name": "Python 3 (ipykernel)",
   "language": "python",
   "name": "python3"
  },
  "language_info": {
   "codemirror_mode": {
    "name": "ipython",
    "version": 3
   },
   "file_extension": ".py",
   "mimetype": "text/x-python",
   "name": "python",
   "nbconvert_exporter": "python",
   "pygments_lexer": "ipython3",
   "version": "3.12.3"
  }
 },
 "nbformat": 4,
 "nbformat_minor": 5
}
