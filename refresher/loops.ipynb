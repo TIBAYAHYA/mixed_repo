{
 "cells": [
  {
   "cell_type": "code",
   "execution_count": 3,
   "id": "c1e0ad5d-99f5-4e48-a418-5102b5b7ba56",
   "metadata": {},
   "outputs": [
    {
     "name": "stdout",
     "output_type": "stream",
     "text": [
      "cant devide by 0\n",
      "Devision Complete\n"
     ]
    }
   ],
   "source": [
    "a = 10\n",
    "b = 0\n",
    "try:\n",
    "    a/b\n",
    "except ZeroDivisionError:\n",
    "    print(\"cant devide by 0\")\n",
    "finally :\n",
    "    print(\"Devision Complete\")"
   ]
  },
  {
   "cell_type": "markdown",
   "id": "93c3ccfc-7e2b-4c75-90c1-e013af3313aa",
   "metadata": {},
   "source": [
    "# the .format() method"
   ]
  },
  {
   "cell_type": "code",
   "execution_count": 12,
   "id": "4de9244e-3444-4274-9044-66c2a35afe7d",
   "metadata": {},
   "outputs": [
    {
     "name": "stdout",
     "output_type": "stream",
     "text": [
      " ali is my friend, but alex told me that he knows the drill\n"
     ]
    }
   ],
   "source": [
    "print(\" {0} is my friend, but {1} told me that he knows the drill\".format(\"ali\",\"alex\"))"
   ]
  },
  {
   "cell_type": "markdown",
   "id": "941de335-d210-40a0-9ed7-3a1bfb79341f",
   "metadata": {},
   "source": [
    "# try except and finnaly statements"
   ]
  },
  {
   "cell_type": "code",
   "execution_count": null,
   "id": "43a1f0d9-1453-4e1d-9b9a-8adfe5fa4b62",
   "metadata": {},
   "outputs": [],
   "source": [
    "a = 1\n",
    "b = 5\n",
    "while a < 10:\n",
    "    try:\n",
    "        a/b\n",
    "        print(f\"{a}/{b}={a/b}\")\n",
    "        \n",
    "    except ZeroDivisionError:\n",
    "        print(f\"the operation {a}/{b} has failed!\")\n",
    "        continue\n",
    "    finally: \n",
    "        print(\"operation done\")\n",
    "        b-= 1\n",
    "        a+= 1\n",
    "        \n",
    "\n",
    "        "
   ]
  },
  {
   "cell_type": "code",
   "execution_count": null,
   "id": "52eb1c1c-7632-4257-9a09-dd9a7a275cbc",
   "metadata": {},
   "outputs": [],
   "source": []
  }
 ],
 "metadata": {
  "kernelspec": {
   "display_name": "Python 3 (ipykernel)",
   "language": "python",
   "name": "python3"
  },
  "language_info": {
   "codemirror_mode": {
    "name": "ipython",
    "version": 3
   },
   "file_extension": ".py",
   "mimetype": "text/x-python",
   "name": "python",
   "nbconvert_exporter": "python",
   "pygments_lexer": "ipython3",
   "version": "3.12.3"
  }
 },
 "nbformat": 4,
 "nbformat_minor": 5
}
