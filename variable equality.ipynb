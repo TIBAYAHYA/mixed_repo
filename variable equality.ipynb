{
 "cells": [
  {
   "cell_type": "markdown",
   "id": "1d54baba-5a10-44bc-8df7-c910da5762bf",
   "metadata": {},
   "source": [
    "# The is method is reference related"
   ]
  },
  {
   "cell_type": "code",
   "execution_count": 8,
   "id": "d8eea56f-f2b1-4a59-819c-b6fd0767f4be",
   "metadata": {},
   "outputs": [],
   "source": [
    "x = 1\n",
    "y = 13"
   ]
  },
  {
   "cell_type": "code",
   "execution_count": 9,
   "id": "5c85a752-ea78-4881-a558-8696d848473e",
   "metadata": {},
   "outputs": [
    {
     "data": {
      "text/plain": [
       "'0xb359a8'"
      ]
     },
     "execution_count": 9,
     "metadata": {},
     "output_type": "execute_result"
    }
   ],
   "source": [
    "hex(id(x))\n"
   ]
  },
  {
   "cell_type": "code",
   "execution_count": 10,
   "id": "616cf77c-13f2-4930-a105-d53f4bf9f5a0",
   "metadata": {},
   "outputs": [
    {
     "data": {
      "text/plain": [
       "'0xb35b28'"
      ]
     },
     "execution_count": 10,
     "metadata": {},
     "output_type": "execute_result"
    }
   ],
   "source": [
    "hex(id(y))"
   ]
  },
  {
   "cell_type": "code",
   "execution_count": null,
   "id": "33708dc5-f67f-45eb-b1ff-ef67a5889ebd",
   "metadata": {},
   "outputs": [],
   "source": [
    "x += 12"
   ]
  },
  {
   "cell_type": "code",
   "execution_count": null,
   "id": "1212b122-98b2-41b5-8d2a-fc5a4b70f5a2",
   "metadata": {},
   "outputs": [],
   "source": []
  },
  {
   "cell_type": "code",
   "execution_count": 11,
   "id": "7350218f-2183-4e84-b3f5-884a2f9b9623",
   "metadata": {},
   "outputs": [
    {
     "data": {
      "text/plain": [
       "False"
      ]
     },
     "execution_count": 11,
     "metadata": {},
     "output_type": "execute_result"
    }
   ],
   "source": [
    "x is y"
   ]
  },
  {
   "cell_type": "code",
   "execution_count": 12,
   "id": "69273052-b6fe-4503-a352-17818a404e59",
   "metadata": {},
   "outputs": [
    {
     "data": {
      "text/plain": [
       "False"
      ]
     },
     "execution_count": 12,
     "metadata": {},
     "output_type": "execute_result"
    }
   ],
   "source": [
    "x == y"
   ]
  },
  {
   "cell_type": "markdown",
   "id": "8c719c39-18ce-4a08-87dc-29158e7c3446",
   "metadata": {},
   "source": [
    "### gagag"
   ]
  },
  {
   "cell_type": "code",
   "execution_count": 24,
   "id": "940da2da-1e75-49b9-a917-455d86ab41ac",
   "metadata": {},
   "outputs": [],
   "source": [
    "string_1 = \"this is a medium lengh string\"\n",
    "string_2 = \"this is a medium lengh string\"\n",
    "string_3 = \"This_is_a_single_word_string\"\n",
    "string_4 = \"This_is_a_single_word_string\""
   ]
  },
  {
   "cell_type": "code",
   "execution_count": 25,
   "id": "e6f6611f-f681-4f79-8619-15a6c22e358b",
   "metadata": {},
   "outputs": [
    {
     "data": {
      "text/plain": [
       "False"
      ]
     },
     "execution_count": 25,
     "metadata": {},
     "output_type": "execute_result"
    }
   ],
   "source": [
    "string_1 is string_2"
   ]
  },
  {
   "cell_type": "code",
   "execution_count": 26,
   "id": "3b1743f8-ccc9-4b3f-8d2a-363a26a84eff",
   "metadata": {},
   "outputs": [
    {
     "data": {
      "text/plain": [
       "True"
      ]
     },
     "execution_count": 26,
     "metadata": {},
     "output_type": "execute_result"
    }
   ],
   "source": [
    "string_1 == string_2"
   ]
  },
  {
   "cell_type": "code",
   "execution_count": 27,
   "id": "d6ec6bf7-e4fc-412c-a970-c828adf04f21",
   "metadata": {},
   "outputs": [
    {
     "data": {
      "text/plain": [
       "True"
      ]
     },
     "execution_count": 27,
     "metadata": {},
     "output_type": "execute_result"
    }
   ],
   "source": [
    "string_3 is string_4"
   ]
  },
  {
   "cell_type": "markdown",
   "id": "ac831925-27e5-40d8-9e4e-186fb98d277a",
   "metadata": {},
   "source": [
    "strings that contains spaces get assigned to multiple layers of memory and therefor they have different momory address despite them\n",
    "relatively being the same thing"
   ]
  },
  {
   "cell_type": "code",
   "execution_count": null,
   "id": "846522c9-033e-4366-9e86-3cd4b7d58aad",
   "metadata": {},
   "outputs": [],
   "source": []
  },
  {
   "cell_type": "code",
   "execution_count": 28,
   "id": "7a642f54-5ebd-4b7d-8761-624ffa8376e4",
   "metadata": {},
   "outputs": [],
   "source": [
    "a = 1713"
   ]
  },
  {
   "cell_type": "code",
   "execution_count": 29,
   "id": "5286b236-7061-478f-b155-6a80625b03c7",
   "metadata": {},
   "outputs": [],
   "source": [
    "b = a"
   ]
  },
  {
   "cell_type": "code",
   "execution_count": 30,
   "id": "28d33ed2-84ae-426c-aa7a-9008cc70b6da",
   "metadata": {},
   "outputs": [
    {
     "data": {
      "text/plain": [
       "'0x7a82b6184970'"
      ]
     },
     "execution_count": 30,
     "metadata": {},
     "output_type": "execute_result"
    }
   ],
   "source": [
    "hex(id(a))"
   ]
  },
  {
   "cell_type": "code",
   "execution_count": 31,
   "id": "4a8eee2b-2c9c-43b1-b552-848ea00f0b3a",
   "metadata": {},
   "outputs": [
    {
     "data": {
      "text/plain": [
       "'0x7a82b6184970'"
      ]
     },
     "execution_count": 31,
     "metadata": {},
     "output_type": "execute_result"
    }
   ],
   "source": [
    "hex(id(b))"
   ]
  },
  {
   "cell_type": "code",
   "execution_count": 32,
   "id": "46b672d5-f6d5-449c-a84e-79e4038dc6d9",
   "metadata": {},
   "outputs": [
    {
     "data": {
      "text/plain": [
       "True"
      ]
     },
     "execution_count": 32,
     "metadata": {},
     "output_type": "execute_result"
    }
   ],
   "source": [
    "a is b"
   ]
  },
  {
   "cell_type": "code",
   "execution_count": 33,
   "id": "c8afa92b-46d3-494f-80c9-e0b1a76b86af",
   "metadata": {},
   "outputs": [
    {
     "data": {
      "text/plain": [
       "True"
      ]
     },
     "execution_count": 33,
     "metadata": {},
     "output_type": "execute_result"
    }
   ],
   "source": [
    "a == b"
   ]
  },
  {
   "cell_type": "markdown",
   "id": "7076dcc9-8b82-442b-bcd7-2c8b55a75bf1",
   "metadata": {},
   "source": [
    "#### shared reference means that a variable is another variable"
   ]
  },
  {
   "cell_type": "code",
   "execution_count": 35,
   "id": "905c6657-ba04-4829-a53b-f0a5e1ca89f8",
   "metadata": {},
   "outputs": [],
   "source": [
    "a = [1,2,3]\n"
   ]
  },
  {
   "cell_type": "code",
   "execution_count": 36,
   "id": "da2c7794-4dfe-4b5c-83be-bcf4584877d4",
   "metadata": {},
   "outputs": [],
   "source": [
    "b = [1,2,3]"
   ]
  },
  {
   "cell_type": "code",
   "execution_count": 37,
   "id": "40d9f302-c493-4941-8d9f-5cf19666f127",
   "metadata": {},
   "outputs": [
    {
     "data": {
      "text/plain": [
       "False"
      ]
     },
     "execution_count": 37,
     "metadata": {},
     "output_type": "execute_result"
    }
   ],
   "source": [
    "a is b"
   ]
  },
  {
   "cell_type": "code",
   "execution_count": 38,
   "id": "c3bbdd3c-df1b-4aef-a24e-4820a014d91b",
   "metadata": {},
   "outputs": [
    {
     "data": {
      "text/plain": [
       "True"
      ]
     },
     "execution_count": 38,
     "metadata": {},
     "output_type": "execute_result"
    }
   ],
   "source": [
    "a == b"
   ]
  },
  {
   "cell_type": "code",
   "execution_count": null,
   "id": "50f82801-08b5-48fa-9013-c9d13d210eab",
   "metadata": {},
   "outputs": [],
   "source": []
  },
  {
   "cell_type": "code",
   "execution_count": 39,
   "id": "4975d805-9602-442c-87f1-7e0f7389a025",
   "metadata": {},
   "outputs": [],
   "source": [
    "a = 10"
   ]
  },
  {
   "cell_type": "code",
   "execution_count": 40,
   "id": "d2295fb0-3584-41be-8f68-86047297a8d2",
   "metadata": {},
   "outputs": [],
   "source": [
    "b= 10.0"
   ]
  },
  {
   "cell_type": "code",
   "execution_count": 41,
   "id": "c46a3269-61fc-41db-b8c8-63c54d3d7182",
   "metadata": {},
   "outputs": [
    {
     "data": {
      "text/plain": [
       "False"
      ]
     },
     "execution_count": 41,
     "metadata": {},
     "output_type": "execute_result"
    }
   ],
   "source": [
    "a is b"
   ]
  },
  {
   "cell_type": "code",
   "execution_count": 42,
   "id": "5bcc8da4-dca8-4c55-8d52-6e41a0314fc7",
   "metadata": {},
   "outputs": [
    {
     "data": {
      "text/plain": [
       "True"
      ]
     },
     "execution_count": 42,
     "metadata": {},
     "output_type": "execute_result"
    }
   ],
   "source": [
    "a==b"
   ]
  },
  {
   "cell_type": "code",
   "execution_count": 96,
   "id": "7d45484d-21c9-4832-8b53-f60bdd4bc703",
   "metadata": {},
   "outputs": [],
   "source": [
    "a = None\n",
    "b = None\n",
    "c = None"
   ]
  },
  {
   "cell_type": "code",
   "execution_count": 97,
   "id": "8e6c2fc0-e4fe-437f-bd04-fffe06ab5a4d",
   "metadata": {},
   "outputs": [
    {
     "data": {
      "text/plain": [
       "'0xa3f8a0'"
      ]
     },
     "execution_count": 97,
     "metadata": {},
     "output_type": "execute_result"
    }
   ],
   "source": [
    "hex(id(a))"
   ]
  },
  {
   "cell_type": "code",
   "execution_count": 99,
   "id": "7c8114ca-f36b-4154-833f-e8a828cfe253",
   "metadata": {},
   "outputs": [
    {
     "data": {
      "text/plain": [
       "'0xa3f8a0'"
      ]
     },
     "execution_count": 99,
     "metadata": {},
     "output_type": "execute_result"
    }
   ],
   "source": [
    "hex(id(b))"
   ]
  },
  {
   "cell_type": "code",
   "execution_count": 100,
   "id": "934f6a8e-ffa3-47ef-8770-dfead13e4360",
   "metadata": {},
   "outputs": [
    {
     "data": {
      "text/plain": [
       "True"
      ]
     },
     "execution_count": 100,
     "metadata": {},
     "output_type": "execute_result"
    }
   ],
   "source": [
    "a is b\n",
    "b is c \n",
    "c is None\n",
    "b is None\n",
    "\n",
    "# I think you get It, ALL and ALL None variables including the value None Itself, they share the same memory Id"
   ]
  },
  {
   "cell_type": "code",
   "execution_count": 61,
   "id": "209d3e1d-003d-4955-92ff-3674788f1454",
   "metadata": {},
   "outputs": [
    {
     "data": {
      "text/plain": [
       "True"
      ]
     },
     "execution_count": 61,
     "metadata": {},
     "output_type": "execute_result"
    }
   ],
   "source": [
    "a == b"
   ]
  },
  {
   "cell_type": "markdown",
   "id": "5a3a1c71-51fe-4394-9585-6c77ef214a4e",
   "metadata": {},
   "source": [
    "### all variables asssigned to the None value/object are set to the same reference, None is not \"nothing\", It is an actual object"
   ]
  },
  {
   "cell_type": "code",
   "execution_count": 71,
   "id": "3a29ce64-9f6e-4e56-8e82-871ccbe89118",
   "metadata": {},
   "outputs": [],
   "source": [
    "a = 10\n",
    "b = 10"
   ]
  },
  {
   "cell_type": "code",
   "execution_count": 72,
   "id": "e6863ab4-7f0f-4590-a273-3ee855aad90a",
   "metadata": {},
   "outputs": [
    {
     "data": {
      "text/plain": [
       "True"
      ]
     },
     "execution_count": 72,
     "metadata": {},
     "output_type": "execute_result"
    }
   ],
   "source": [
    "a is b #is true"
   ]
  },
  {
   "cell_type": "code",
   "execution_count": 73,
   "id": "1a433d58-3a7d-4852-9b49-339310135201",
   "metadata": {},
   "outputs": [],
   "source": [
    "a = 500\n",
    "b = 500"
   ]
  },
  {
   "cell_type": "code",
   "execution_count": 74,
   "id": "4b7a5b6d-9621-4466-9581-9c8fb6e5c9a0",
   "metadata": {},
   "outputs": [
    {
     "data": {
      "text/plain": [
       "False"
      ]
     },
     "execution_count": 74,
     "metadata": {},
     "output_type": "execute_result"
    }
   ],
   "source": [
    "a is b #is False"
   ]
  },
  {
   "cell_type": "markdown",
   "id": "a772cd89-5c38-4be7-a8ce-22b381c1433d",
   "metadata": {},
   "source": [
    "### what do we understand? the way python handles memory addresses is long values take up multiple memory addresses, and therefore the is method returns False"
   ]
  },
  {
   "cell_type": "code",
   "execution_count": 78,
   "id": "c45ef78a-2442-491f-b678-3c7ae5121b80",
   "metadata": {},
   "outputs": [
    {
     "data": {
      "text/plain": [
       "True"
      ]
     },
     "execution_count": 78,
     "metadata": {},
     "output_type": "execute_result"
    }
   ],
   "source": [
    "a == b"
   ]
  },
  {
   "cell_type": "markdown",
   "id": "00d9a473-3611-4f09-9d17-dece26fb779e",
   "metadata": {},
   "source": [
    "#### value comparison works normaly tho"
   ]
  },
  {
   "cell_type": "markdown",
   "id": "64757948-ec90-4251-be1b-f84628295b50",
   "metadata": {},
   "source": [
    "## This has something to do with complex numbers?"
   ]
  },
  {
   "cell_type": "code",
   "execution_count": 92,
   "id": "b2ef0cdb-bd3f-4db5-8c4a-610b1acabec4",
   "metadata": {},
   "outputs": [
    {
     "data": {
      "text/plain": [
       "complex"
      ]
     },
     "execution_count": 92,
     "metadata": {},
     "output_type": "execute_result"
    }
   ],
   "source": [
    "a  = 10.0\n",
    "b = 10 + 0j   # this basiclly returns 10,\n",
    "type(b)"
   ]
  },
  {
   "cell_type": "code",
   "execution_count": 93,
   "id": "a6701729-ef8f-47fe-ba33-28b1b90191be",
   "metadata": {},
   "outputs": [
    {
     "data": {
      "text/plain": [
       "False"
      ]
     },
     "execution_count": 93,
     "metadata": {},
     "output_type": "execute_result"
    }
   ],
   "source": [
    "a is b   # 10 is not 10.0, just like before"
   ]
  },
  {
   "cell_type": "code",
   "execution_count": 94,
   "id": "637c65fc-a622-4dcf-8fb4-43344ce3ac61",
   "metadata": {},
   "outputs": [
    {
     "data": {
      "text/plain": [
       "True"
      ]
     },
     "execution_count": 94,
     "metadata": {},
     "output_type": "execute_result"
    }
   ],
   "source": [
    "a == b"
   ]
  },
  {
   "cell_type": "code",
   "execution_count": null,
   "id": "c2ce9282-a218-4ffd-9616-acbeb256c393",
   "metadata": {},
   "outputs": [],
   "source": []
  }
 ],
 "metadata": {
  "kernelspec": {
   "display_name": "Python 3 (ipykernel)",
   "language": "python",
   "name": "python3"
  },
  "language_info": {
   "codemirror_mode": {
    "name": "ipython",
    "version": 3
   },
   "file_extension": ".py",
   "mimetype": "text/x-python",
   "name": "python",
   "nbconvert_exporter": "python",
   "pygments_lexer": "ipython3",
   "version": "3.12.3"
  }
 },
 "nbformat": 4,
 "nbformat_minor": 5
}
